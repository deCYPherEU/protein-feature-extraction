{
 "cells": [
  {
   "cell_type": "markdown",
   "metadata": {},
   "source": [
    "# Check Output of the Fondant pipline"
   ]
  },
  {
   "cell_type": "code",
   "execution_count": 1,
   "metadata": {},
   "outputs": [
    {
     "data": {
      "text/html": [
       "<div>\n",
       "<style scoped>\n",
       "    .dataframe tbody tr th:only-of-type {\n",
       "        vertical-align: middle;\n",
       "    }\n",
       "\n",
       "    .dataframe tbody tr th {\n",
       "        vertical-align: top;\n",
       "    }\n",
       "\n",
       "    .dataframe thead th {\n",
       "        text-align: right;\n",
       "    }\n",
       "</style>\n",
       "<table border=\"1\" class=\"dataframe\">\n",
       "  <thead>\n",
       "    <tr style=\"text-align: right;\">\n",
       "      <th></th>\n",
       "      <th>sequence</th>\n",
       "      <th>sequence_id</th>\n",
       "      <th>pdb_string</th>\n",
       "    </tr>\n",
       "    <tr>\n",
       "      <th>id</th>\n",
       "      <th></th>\n",
       "      <th></th>\n",
       "      <th></th>\n",
       "    </tr>\n",
       "  </thead>\n",
       "  <tbody>\n",
       "    <tr>\n",
       "      <th>0_1</th>\n",
       "      <td>MNQRGMPIQSLVTNVKINRLEENDCIHTRHRVRPGRTDGKNLHAMM...</td>\n",
       "      <td>CRC-94CF2EE011C80480</td>\n",
       "      <td>PARENT N/A\n",
       "ATOM      1  N   MET A   1     -30....</td>\n",
       "    </tr>\n",
       "    <tr>\n",
       "      <th>0_5</th>\n",
       "      <td>MRVLCDGSTGYACAKNTRIRFREKVASVLAKIQGYEQTFPHHMPNM...</td>\n",
       "      <td>CRC-747F108552578E1D</td>\n",
       "      <td>PARENT N/A\n",
       "ATOM      1  N   MET A   1     -15....</td>\n",
       "    </tr>\n",
       "    <tr>\n",
       "      <th>0_2</th>\n",
       "      <td>MAGLKPEVPLHDGINKFGKSDFAGQEGPKIVTTTDKALLVANGALK...</td>\n",
       "      <td>CRC-68D748EC385E9BEC</td>\n",
       "      <td>PARENT N/A\n",
       "ATOM      1  N   MET A   1     -12....</td>\n",
       "    </tr>\n",
       "    <tr>\n",
       "      <th>0_3</th>\n",
       "      <td>MVDLKKELKNFVDSDFPGSPKQEAQGIDVRILLSFNNAAFREALII...</td>\n",
       "      <td>CRC-3B9E0764E7D3C737</td>\n",
       "      <td>PARENT N/A\n",
       "ATOM      1  N   MET A   1     -18....</td>\n",
       "    </tr>\n",
       "    <tr>\n",
       "      <th>0_4</th>\n",
       "      <td>MELILAKARLEFECDWGLLMLEPCVPPTKIFADRNYAVGVMFESDK...</td>\n",
       "      <td>CRC-B08C4E4E86E87F17</td>\n",
       "      <td>PARENT N/A\n",
       "ATOM      1  N   MET A   1      -9....</td>\n",
       "    </tr>\n",
       "  </tbody>\n",
       "</table>\n",
       "</div>"
      ],
      "text/plain": [
       "                                              sequence           sequence_id  \\\n",
       "id                                                                             \n",
       "0_1  MNQRGMPIQSLVTNVKINRLEENDCIHTRHRVRPGRTDGKNLHAMM...  CRC-94CF2EE011C80480   \n",
       "0_5  MRVLCDGSTGYACAKNTRIRFREKVASVLAKIQGYEQTFPHHMPNM...  CRC-747F108552578E1D   \n",
       "0_2  MAGLKPEVPLHDGINKFGKSDFAGQEGPKIVTTTDKALLVANGALK...  CRC-68D748EC385E9BEC   \n",
       "0_3  MVDLKKELKNFVDSDFPGSPKQEAQGIDVRILLSFNNAAFREALII...  CRC-3B9E0764E7D3C737   \n",
       "0_4  MELILAKARLEFECDWGLLMLEPCVPPTKIFADRNYAVGVMFESDK...  CRC-B08C4E4E86E87F17   \n",
       "\n",
       "                                            pdb_string  \n",
       "id                                                      \n",
       "0_1  PARENT N/A\n",
       "ATOM      1  N   MET A   1     -30....  \n",
       "0_5  PARENT N/A\n",
       "ATOM      1  N   MET A   1     -15....  \n",
       "0_2  PARENT N/A\n",
       "ATOM      1  N   MET A   1     -12....  \n",
       "0_3  PARENT N/A\n",
       "ATOM      1  N   MET A   1     -18....  \n",
       "0_4  PARENT N/A\n",
       "ATOM      1  N   MET A   1      -9....  "
      ]
     },
     "execution_count": 1,
     "metadata": {},
     "output_type": "execute_result"
    }
   ],
   "source": [
    "import pandas as pd\n",
    "\n",
    "df = pd.read_parquet('../data/export/')\n",
    "df.head()"
   ]
  }
 ],
 "metadata": {
  "kernelspec": {
   "display_name": "protein-feature-extraction-NoVdeDG9",
   "language": "python",
   "name": "python3"
  },
  "language_info": {
   "codemirror_mode": {
    "name": "ipython",
    "version": 3
   },
   "file_extension": ".py",
   "mimetype": "text/x-python",
   "name": "python",
   "nbconvert_exporter": "python",
   "pygments_lexer": "ipython3",
   "version": "3.11.4"
  }
 },
 "nbformat": 4,
 "nbformat_minor": 2
}
