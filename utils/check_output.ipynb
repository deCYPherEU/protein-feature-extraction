{
 "cells": [
  {
   "cell_type": "markdown",
   "metadata": {},
   "source": [
    "# Check Output of the Fondant pipline"
   ]
  },
  {
   "cell_type": "markdown",
   "metadata": {},
   "source": [
    "Place the output of the Fondant pipeline cache in the `data/export` directory and run the following code to check the output."
   ]
  },
  {
   "cell_type": "code",
   "execution_count": 1,
   "metadata": {},
   "outputs": [
    {
     "data": {
      "text/html": [
       "<div>\n",
       "<style scoped>\n",
       "    .dataframe tbody tr th:only-of-type {\n",
       "        vertical-align: middle;\n",
       "    }\n",
       "\n",
       "    .dataframe tbody tr th {\n",
       "        vertical-align: top;\n",
       "    }\n",
       "\n",
       "    .dataframe thead th {\n",
       "        text-align: right;\n",
       "    }\n",
       "</style>\n",
       "<table border=\"1\" class=\"dataframe\">\n",
       "  <thead>\n",
       "    <tr style=\"text-align: right;\">\n",
       "      <th></th>\n",
       "      <th>sequence</th>\n",
       "      <th>pdb_string</th>\n",
       "      <th>sequence_id</th>\n",
       "    </tr>\n",
       "    <tr>\n",
       "      <th>id</th>\n",
       "      <th></th>\n",
       "      <th></th>\n",
       "      <th></th>\n",
       "    </tr>\n",
       "  </thead>\n",
       "  <tbody>\n",
       "    <tr>\n",
       "      <th>0_1</th>\n",
       "      <td>MNQRGMPIQSLVTNVKINRLEENDCIHTRHRVRPGRTDGKNLHAMM...</td>\n",
       "      <td>pdb_string_4</td>\n",
       "      <td>CRC-94CF2EE011C80480</td>\n",
       "    </tr>\n",
       "    <tr>\n",
       "      <th>0_5</th>\n",
       "      <td>MRVLCDGSTGYACAKNTRIRFREKVASVLAKIQGYEQTFPHHMPNM...</td>\n",
       "      <td>pdb_string_3</td>\n",
       "      <td>CRC-747F108552578E1D</td>\n",
       "    </tr>\n",
       "    <tr>\n",
       "      <th>0_2</th>\n",
       "      <td>MAGLKPEVPLHDGINKFGKSDFAGQEGPKIVTTTDKALLVANGALK...</td>\n",
       "      <td>pdb_string_2</td>\n",
       "      <td>CRC-68D748EC385E9BEC</td>\n",
       "    </tr>\n",
       "    <tr>\n",
       "      <th>0_3</th>\n",
       "      <td>MVDLKKELKNFVDSDFPGSPKQEAQGIDVRILLSFNNAAFREALII...</td>\n",
       "      <td></td>\n",
       "      <td>CRC-3B9E0764E7D3C737</td>\n",
       "    </tr>\n",
       "    <tr>\n",
       "      <th>0_4</th>\n",
       "      <td>MELILAKARLEFECDWGLLMLEPCVPPTKIFADRNYAVGVMFESDK...</td>\n",
       "      <td>pdb_string_5</td>\n",
       "      <td>CRC-B08C4E4E86E87F17</td>\n",
       "    </tr>\n",
       "  </tbody>\n",
       "</table>\n",
       "</div>"
      ],
      "text/plain": [
       "                                              sequence    pdb_string  \\\n",
       "id                                                                     \n",
       "0_1  MNQRGMPIQSLVTNVKINRLEENDCIHTRHRVRPGRTDGKNLHAMM...  pdb_string_4   \n",
       "0_5  MRVLCDGSTGYACAKNTRIRFREKVASVLAKIQGYEQTFPHHMPNM...  pdb_string_3   \n",
       "0_2  MAGLKPEVPLHDGINKFGKSDFAGQEGPKIVTTTDKALLVANGALK...  pdb_string_2   \n",
       "0_3  MVDLKKELKNFVDSDFPGSPKQEAQGIDVRILLSFNNAAFREALII...                 \n",
       "0_4  MELILAKARLEFECDWGLLMLEPCVPPTKIFADRNYAVGVMFESDK...  pdb_string_5   \n",
       "\n",
       "              sequence_id  \n",
       "id                         \n",
       "0_1  CRC-94CF2EE011C80480  \n",
       "0_5  CRC-747F108552578E1D  \n",
       "0_2  CRC-68D748EC385E9BEC  \n",
       "0_3  CRC-3B9E0764E7D3C737  \n",
       "0_4  CRC-B08C4E4E86E87F17  "
      ]
     },
     "execution_count": 1,
     "metadata": {},
     "output_type": "execute_result"
    }
   ],
   "source": [
    "import pandas as pd\n",
    "import os\n",
    "\n",
    "df = pd.read_parquet('../data/export')\n",
    "df.head()"
   ]
  },
  {
   "cell_type": "code",
   "execution_count": 30,
   "metadata": {},
   "outputs": [],
   "source": [
    "# get the second pdb_string and save it to a file\n",
    "pdb_string = df['pdb_string'][1]\n",
    "\n",
    "with open('first_pdb.pdb', 'w') as f:\n",
    "\tf.write(pdb_string)\n",
    "\n",
    "# mock data was not optimal, so used the second pdb_string instead of the first. For some reason the first one has '0' as sequence_id and now has nothing for the pdb_string column. Not a problem for the task at hand, but just wanted to mention it."
   ]
  }
 ],
 "metadata": {
  "kernelspec": {
   "display_name": "protein-feature-extraction-NoVdeDG9",
   "language": "python",
   "name": "python3"
  },
  "language_info": {
   "codemirror_mode": {
    "name": "ipython",
    "version": 3
   },
   "file_extension": ".py",
   "mimetype": "text/x-python",
   "name": "python",
   "nbconvert_exporter": "python",
   "pygments_lexer": "ipython3",
   "version": "3.11.4"
  }
 },
 "nbformat": 4,
 "nbformat_minor": 2
}
