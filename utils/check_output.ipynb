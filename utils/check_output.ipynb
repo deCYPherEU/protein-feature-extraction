{
 "cells": [
  {
   "cell_type": "markdown",
   "metadata": {},
   "source": [
    "# Check Output of the Fondant pipline"
   ]
  },
  {
   "cell_type": "markdown",
   "metadata": {},
   "source": [
    "Place the output of the Fondant pipeline cache in the `data/export` directory and run the following code to check the output."
   ]
  },
  {
   "cell_type": "code",
   "execution_count": 24,
   "metadata": {},
   "outputs": [
    {
     "data": {
      "text/html": [
       "<div>\n",
       "<style scoped>\n",
       "    .dataframe tbody tr th:only-of-type {\n",
       "        vertical-align: middle;\n",
       "    }\n",
       "\n",
       "    .dataframe tbody tr th {\n",
       "        vertical-align: top;\n",
       "    }\n",
       "\n",
       "    .dataframe thead th {\n",
       "        text-align: right;\n",
       "    }\n",
       "</style>\n",
       "<table border=\"1\" class=\"dataframe\">\n",
       "  <thead>\n",
       "    <tr style=\"text-align: right;\">\n",
       "      <th></th>\n",
       "      <th>sequence_id</th>\n",
       "      <th>pdb_string</th>\n",
       "    </tr>\n",
       "  </thead>\n",
       "  <tbody>\n",
       "    <tr>\n",
       "      <th>0</th>\n",
       "      <td></td>\n",
       "      <td></td>\n",
       "    </tr>\n",
       "    <tr>\n",
       "      <th>1</th>\n",
       "      <td>CRC-68D748EC385E9BEC</td>\n",
       "      <td>PARENT N/A\\nATOM      1  N   MET A   1     -12...</td>\n",
       "    </tr>\n",
       "    <tr>\n",
       "      <th>2</th>\n",
       "      <td>CRC-B08C4E4E86E87F17</td>\n",
       "      <td>PARENT N/A\\nATOM      1  N   MET A   1      -9...</td>\n",
       "    </tr>\n",
       "    <tr>\n",
       "      <th>3</th>\n",
       "      <td>CRC-3B9E0764E7D3C737</td>\n",
       "      <td>PARENT N/A\\nATOM      1  N   MET A   1     -18...</td>\n",
       "    </tr>\n",
       "    <tr>\n",
       "      <th>4</th>\n",
       "      <td>CRC-747F108552578E1D</td>\n",
       "      <td>PARENT N/A\\nATOM      1  N   MET A   1     -15...</td>\n",
       "    </tr>\n",
       "  </tbody>\n",
       "</table>\n",
       "</div>"
      ],
      "text/plain": [
       "            sequence_id                                         pdb_string\n",
       "0                                                                         \n",
       "1  CRC-68D748EC385E9BEC  PARENT N/A\\nATOM      1  N   MET A   1     -12...\n",
       "2  CRC-B08C4E4E86E87F17  PARENT N/A\\nATOM      1  N   MET A   1      -9...\n",
       "3  CRC-3B9E0764E7D3C737  PARENT N/A\\nATOM      1  N   MET A   1     -18...\n",
       "4  CRC-747F108552578E1D  PARENT N/A\\nATOM      1  N   MET A   1     -15..."
      ]
     },
     "execution_count": 24,
     "metadata": {},
     "output_type": "execute_result"
    }
   ],
   "source": [
    "import pandas as pd\n",
    "import os\n",
    "\n",
    "df = pd.read_parquet('../data/pdb_file.parquet')\n",
    "df.head()"
   ]
  },
  {
   "cell_type": "code",
   "execution_count": 30,
   "metadata": {},
   "outputs": [],
   "source": [
    "# get the second pdb_string and save it to a file\n",
    "pdb_string = df['pdb_string'][1]\n",
    "\n",
    "with open('first_pdb.pdb', 'w') as f:\n",
    "\tf.write(pdb_string)\n",
    "\n",
    "# mock data was not optimal, so used the second pdb_string instead of the first. For some reason the first one has '0' as sequence_id and now has nothing for the pdb_string column. Not a problem for the task at hand, but just wanted to mention it."
   ]
  }
 ],
 "metadata": {
  "kernelspec": {
   "display_name": "protein-feature-extraction-NoVdeDG9",
   "language": "python",
   "name": "python3"
  },
  "language_info": {
   "codemirror_mode": {
    "name": "ipython",
    "version": 3
   },
   "file_extension": ".py",
   "mimetype": "text/x-python",
   "name": "python",
   "nbconvert_exporter": "python",
   "pygments_lexer": "ipython3",
   "version": "3.11.4"
  }
 },
 "nbformat": 4,
 "nbformat_minor": 2
}
